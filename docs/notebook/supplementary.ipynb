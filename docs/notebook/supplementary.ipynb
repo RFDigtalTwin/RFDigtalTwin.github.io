{
 "cells": [
  {
   "cell_type": "markdown",
   "metadata": {},
   "source": [
    "# InverTwin  Supplementary\n",
    "Will be provided before Sept. 17th 2024."
   ]
  }
 ],
 "metadata": {
  "language_info": {
   "name": "python"
  }
 },
 "nbformat": 4,
 "nbformat_minor": 2
}
